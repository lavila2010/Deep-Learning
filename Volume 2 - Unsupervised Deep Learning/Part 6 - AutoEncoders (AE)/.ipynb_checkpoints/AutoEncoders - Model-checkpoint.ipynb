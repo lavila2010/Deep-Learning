{
 "cells": [
  {
   "cell_type": "markdown",
   "metadata": {},
   "source": [
    "## AutoEncoders"
   ]
  },
  {
   "cell_type": "markdown",
   "metadata": {},
   "source": [
    "#### Importing the libraries"
   ]
  },
  {
   "cell_type": "code",
   "execution_count": 1,
   "metadata": {},
   "outputs": [],
   "source": [
    "import numpy as np\n",
    "import pandas as pd\n",
    "import torch\n",
    "import torch.nn as nn\n",
    "import torch.nn.parallel\n",
    "import torch.optim as optim\n",
    "import torch.utils.data\n",
    "from torch.autograd import Variable"
   ]
  },
  {
   "cell_type": "markdown",
   "metadata": {},
   "source": [
    "#### Importing the dataset"
   ]
  },
  {
   "cell_type": "code",
   "execution_count": 2,
   "metadata": {},
   "outputs": [],
   "source": [
    "movies = pd.read_csv('ml-1m/movies.dat', sep = '::', header = None, engine = 'python', encoding = 'latin-1')\n",
    "users = pd.read_csv('ml-1m/users.dat', sep = '::', header = None, engine = 'python', encoding = 'latin-1')\n",
    "ratings = pd.read_csv('ml-1m/ratings.dat', sep = '::', header = None, engine = 'python', encoding = 'latin-1')"
   ]
  },
  {
   "cell_type": "markdown",
   "metadata": {},
   "source": [
    "#### Preparing the training set and the test set"
   ]
  },
  {
   "cell_type": "code",
   "execution_count": 3,
   "metadata": {},
   "outputs": [],
   "source": [
    "training_set = pd.read_csv('ml-100k/u1.base', delimiter = '\\t')\n",
    "training_set = np.array(training_set, dtype = 'int')\n",
    "test_set = pd.read_csv('ml-100k/u1.test', delimiter = '\\t')\n",
    "test_set = np.array(test_set, dtype = 'int')"
   ]
  },
  {
   "cell_type": "markdown",
   "metadata": {},
   "source": [
    "#### Getting the number of users and movies"
   ]
  },
  {
   "cell_type": "code",
   "execution_count": 4,
   "metadata": {},
   "outputs": [],
   "source": [
    "nb_users = int(max(max(training_set[:,0]), max(test_set[:,0])))\n",
    "nb_movies = int(max(max(training_set[:,1]), max(test_set[:,1])))"
   ]
  },
  {
   "cell_type": "markdown",
   "metadata": {},
   "source": [
    "#### Converting the data into an array with users in lines and movies in columns"
   ]
  },
  {
   "cell_type": "code",
   "execution_count": 5,
   "metadata": {},
   "outputs": [],
   "source": [
    "def convert(data):\n",
    "    new_data = []\n",
    "    for id_users in range(1, nb_users + 1):\n",
    "        id_movies = data[:,1][data[:,0] == id_users]\n",
    "        id_ratings = data[:,2][data[:,0] == id_users]\n",
    "        ratings = np.zeros(nb_movies)\n",
    "        ratings[id_movies - 1] = id_ratings\n",
    "        new_data.append(list(ratings))\n",
    "    return new_data\n",
    "training_set = convert(training_set)\n",
    "test_set = convert(test_set)"
   ]
  },
  {
   "cell_type": "markdown",
   "metadata": {},
   "source": [
    "#### Converting the data into Torch tensors"
   ]
  },
  {
   "cell_type": "code",
   "execution_count": 6,
   "metadata": {},
   "outputs": [],
   "source": [
    "training_set = torch.FloatTensor(training_set)\n",
    "test_set = torch.FloatTensor(test_set)"
   ]
  },
  {
   "cell_type": "markdown",
   "metadata": {},
   "source": [
    "#### Creating the architecture of the Neural Network"
   ]
  },
  {
   "cell_type": "code",
   "execution_count": 7,
   "metadata": {},
   "outputs": [],
   "source": [
    "class SAE(nn.Module): # Stacked AutoEncoder since we are using many Hidden layers\n",
    "    def __init__(self, ):# doing inheritance\n",
    "        super(SAE, self).__init__() # init again to make sure we get all the inherate classes and parent class and module \n",
    "        self.fc1 = nn.Linear(nb_movies, 20)# full connection first input vector features and encoded vector\n",
    "        self.fc2 = nn.Linear(20, 10) # 20 neurons (features) \n",
    "        self.fc3 = nn.Linear(10, 20)\n",
    "        self.fc4 = nn.Linear(20, nb_movies)\n",
    "        self.activation = nn.Sigmoid() # 5 objects of 5 different classes\n",
    "    def forward(self, x): # action = enconding and deconding\n",
    "        x = self.activation(self.fc1(x))\n",
    "        x = self.activation(self.fc2(x))\n",
    "        x = self.activation(self.fc3(x))\n",
    "        x = self.fc4(x)\n",
    "        return x"
   ]
  },
  {
   "cell_type": "code",
   "execution_count": 8,
   "metadata": {},
   "outputs": [],
   "source": [
    "sae = SAE() # Autoencoder creator\n",
    "criterion = nn.MSELoss()\n",
    "optimizer = optim.RMSprop(sae.parameters(), lr = 0.01, weight_decay = 0.5)"
   ]
  },
  {
   "cell_type": "markdown",
   "metadata": {},
   "source": [
    "#### Training the SAE"
   ]
  },
  {
   "cell_type": "code",
   "execution_count": 10,
   "metadata": {},
   "outputs": [
    {
     "name": "stdout",
     "output_type": "stream",
     "text": [
      "epoch: 1 loss: tensor(1.7674)\n",
      "epoch: 2 loss: tensor(1.0965)\n",
      "epoch: 3 loss: tensor(1.0533)\n",
      "epoch: 4 loss: tensor(1.0386)\n",
      "epoch: 5 loss: tensor(1.0308)\n",
      "epoch: 6 loss: tensor(1.0267)\n",
      "epoch: 7 loss: tensor(1.0237)\n",
      "epoch: 8 loss: tensor(1.0218)\n",
      "epoch: 9 loss: tensor(1.0208)\n",
      "epoch: 10 loss: tensor(1.0196)\n",
      "epoch: 11 loss: tensor(1.0189)\n",
      "epoch: 12 loss: tensor(1.0184)\n",
      "epoch: 13 loss: tensor(1.0178)\n",
      "epoch: 14 loss: tensor(1.0174)\n",
      "epoch: 15 loss: tensor(1.0172)\n",
      "epoch: 16 loss: tensor(1.0169)\n",
      "epoch: 17 loss: tensor(1.0169)\n",
      "epoch: 18 loss: tensor(1.0164)\n",
      "epoch: 19 loss: tensor(1.0162)\n",
      "epoch: 20 loss: tensor(1.0163)\n",
      "epoch: 21 loss: tensor(1.0160)\n",
      "epoch: 22 loss: tensor(1.0160)\n",
      "epoch: 23 loss: tensor(1.0157)\n",
      "epoch: 24 loss: tensor(1.0159)\n",
      "epoch: 25 loss: tensor(1.0156)\n",
      "epoch: 26 loss: tensor(1.0154)\n",
      "epoch: 27 loss: tensor(1.0154)\n",
      "epoch: 28 loss: tensor(1.0150)\n",
      "epoch: 29 loss: tensor(1.0129)\n",
      "epoch: 30 loss: tensor(1.0112)\n",
      "epoch: 31 loss: tensor(1.0105)\n",
      "epoch: 32 loss: tensor(1.0080)\n",
      "epoch: 33 loss: tensor(1.0076)\n",
      "epoch: 34 loss: tensor(1.0039)\n",
      "epoch: 35 loss: tensor(1.0034)\n",
      "epoch: 36 loss: tensor(1.0005)\n",
      "epoch: 37 loss: tensor(0.9986)\n",
      "epoch: 38 loss: tensor(0.9969)\n",
      "epoch: 39 loss: tensor(0.9932)\n",
      "epoch: 40 loss: tensor(0.9920)\n",
      "epoch: 41 loss: tensor(0.9895)\n",
      "epoch: 42 loss: tensor(0.9903)\n",
      "epoch: 43 loss: tensor(0.9870)\n",
      "epoch: 44 loss: tensor(0.9862)\n",
      "epoch: 45 loss: tensor(0.9862)\n",
      "epoch: 46 loss: tensor(0.9825)\n",
      "epoch: 47 loss: tensor(0.9836)\n",
      "epoch: 48 loss: tensor(0.9796)\n",
      "epoch: 49 loss: tensor(0.9824)\n",
      "epoch: 50 loss: tensor(0.9782)\n",
      "epoch: 51 loss: tensor(0.9772)\n",
      "epoch: 52 loss: tensor(0.9730)\n",
      "epoch: 53 loss: tensor(0.9776)\n",
      "epoch: 54 loss: tensor(0.9716)\n",
      "epoch: 55 loss: tensor(0.9695)\n",
      "epoch: 56 loss: tensor(0.9698)\n",
      "epoch: 57 loss: tensor(0.9676)\n",
      "epoch: 58 loss: tensor(0.9682)\n",
      "epoch: 59 loss: tensor(0.9685)\n",
      "epoch: 60 loss: tensor(0.9642)\n",
      "epoch: 61 loss: tensor(0.9650)\n",
      "epoch: 62 loss: tensor(0.9622)\n",
      "epoch: 63 loss: tensor(0.9622)\n",
      "epoch: 64 loss: tensor(0.9611)\n",
      "epoch: 65 loss: tensor(0.9616)\n",
      "epoch: 66 loss: tensor(0.9605)\n",
      "epoch: 67 loss: tensor(0.9603)\n",
      "epoch: 68 loss: tensor(0.9558)\n",
      "epoch: 69 loss: tensor(0.9551)\n",
      "epoch: 70 loss: tensor(0.9584)\n",
      "epoch: 71 loss: tensor(0.9526)\n",
      "epoch: 72 loss: tensor(0.9540)\n",
      "epoch: 73 loss: tensor(0.9522)\n",
      "epoch: 74 loss: tensor(0.9527)\n",
      "epoch: 75 loss: tensor(0.9481)\n",
      "epoch: 76 loss: tensor(0.9454)\n",
      "epoch: 77 loss: tensor(0.9476)\n",
      "epoch: 78 loss: tensor(0.9448)\n",
      "epoch: 79 loss: tensor(0.9461)\n",
      "epoch: 80 loss: tensor(0.9447)\n",
      "epoch: 81 loss: tensor(0.9447)\n",
      "epoch: 82 loss: tensor(0.9435)\n",
      "epoch: 83 loss: tensor(0.9427)\n",
      "epoch: 84 loss: tensor(0.9409)\n",
      "epoch: 85 loss: tensor(0.9415)\n",
      "epoch: 86 loss: tensor(0.9389)\n",
      "epoch: 87 loss: tensor(0.9401)\n",
      "epoch: 88 loss: tensor(0.9393)\n",
      "epoch: 89 loss: tensor(0.9380)\n",
      "epoch: 90 loss: tensor(0.9372)\n",
      "epoch: 91 loss: tensor(0.9368)\n",
      "epoch: 92 loss: tensor(0.9356)\n",
      "epoch: 93 loss: tensor(0.9367)\n",
      "epoch: 94 loss: tensor(0.9356)\n",
      "epoch: 95 loss: tensor(0.9356)\n",
      "epoch: 96 loss: tensor(0.9346)\n",
      "epoch: 97 loss: tensor(0.9350)\n",
      "epoch: 98 loss: tensor(0.9342)\n",
      "epoch: 99 loss: tensor(0.9352)\n",
      "epoch: 100 loss: tensor(0.9334)\n",
      "epoch: 101 loss: tensor(0.9342)\n",
      "epoch: 102 loss: tensor(0.9323)\n",
      "epoch: 103 loss: tensor(0.9324)\n",
      "epoch: 104 loss: tensor(0.9321)\n",
      "epoch: 105 loss: tensor(0.9328)\n",
      "epoch: 106 loss: tensor(0.9316)\n",
      "epoch: 107 loss: tensor(0.9319)\n",
      "epoch: 108 loss: tensor(0.9309)\n",
      "epoch: 109 loss: tensor(0.9310)\n",
      "epoch: 110 loss: tensor(0.9304)\n",
      "epoch: 111 loss: tensor(0.9308)\n",
      "epoch: 112 loss: tensor(0.9297)\n",
      "epoch: 113 loss: tensor(0.9303)\n",
      "epoch: 114 loss: tensor(0.9289)\n",
      "epoch: 115 loss: tensor(0.9290)\n",
      "epoch: 116 loss: tensor(0.9279)\n",
      "epoch: 117 loss: tensor(0.9282)\n",
      "epoch: 118 loss: tensor(0.9277)\n",
      "epoch: 119 loss: tensor(0.9280)\n",
      "epoch: 120 loss: tensor(0.9270)\n",
      "epoch: 121 loss: tensor(0.9271)\n",
      "epoch: 122 loss: tensor(0.9258)\n",
      "epoch: 123 loss: tensor(0.9267)\n",
      "epoch: 124 loss: tensor(0.9257)\n",
      "epoch: 125 loss: tensor(0.9257)\n",
      "epoch: 126 loss: tensor(0.9249)\n",
      "epoch: 127 loss: tensor(0.9254)\n",
      "epoch: 128 loss: tensor(0.9242)\n",
      "epoch: 129 loss: tensor(0.9244)\n",
      "epoch: 130 loss: tensor(0.9232)\n",
      "epoch: 131 loss: tensor(0.9241)\n",
      "epoch: 132 loss: tensor(0.9237)\n",
      "epoch: 133 loss: tensor(0.9232)\n",
      "epoch: 134 loss: tensor(0.9227)\n",
      "epoch: 135 loss: tensor(0.9227)\n",
      "epoch: 136 loss: tensor(0.9219)\n",
      "epoch: 137 loss: tensor(0.9225)\n",
      "epoch: 138 loss: tensor(0.9216)\n",
      "epoch: 139 loss: tensor(0.9215)\n",
      "epoch: 140 loss: tensor(0.9209)\n",
      "epoch: 141 loss: tensor(0.9211)\n",
      "epoch: 142 loss: tensor(0.9207)\n",
      "epoch: 143 loss: tensor(0.9205)\n",
      "epoch: 144 loss: tensor(0.9202)\n",
      "epoch: 145 loss: tensor(0.9201)\n",
      "epoch: 146 loss: tensor(0.9197)\n",
      "epoch: 147 loss: tensor(0.9200)\n",
      "epoch: 148 loss: tensor(0.9195)\n",
      "epoch: 149 loss: tensor(0.9196)\n",
      "epoch: 150 loss: tensor(0.9188)\n",
      "epoch: 151 loss: tensor(0.9190)\n",
      "epoch: 152 loss: tensor(0.9183)\n",
      "epoch: 153 loss: tensor(0.9186)\n",
      "epoch: 154 loss: tensor(0.9180)\n",
      "epoch: 155 loss: tensor(0.9184)\n",
      "epoch: 156 loss: tensor(0.9177)\n",
      "epoch: 157 loss: tensor(0.9179)\n",
      "epoch: 158 loss: tensor(0.9173)\n",
      "epoch: 159 loss: tensor(0.9176)\n",
      "epoch: 160 loss: tensor(0.9169)\n",
      "epoch: 161 loss: tensor(0.9174)\n",
      "epoch: 162 loss: tensor(0.9167)\n",
      "epoch: 163 loss: tensor(0.9170)\n",
      "epoch: 164 loss: tensor(0.9161)\n",
      "epoch: 165 loss: tensor(0.9171)\n",
      "epoch: 166 loss: tensor(0.9161)\n",
      "epoch: 167 loss: tensor(0.9162)\n",
      "epoch: 168 loss: tensor(0.9158)\n",
      "epoch: 169 loss: tensor(0.9159)\n",
      "epoch: 170 loss: tensor(0.9155)\n",
      "epoch: 171 loss: tensor(0.9154)\n",
      "epoch: 172 loss: tensor(0.9152)\n",
      "epoch: 173 loss: tensor(0.9155)\n",
      "epoch: 174 loss: tensor(0.9149)\n",
      "epoch: 175 loss: tensor(0.9150)\n",
      "epoch: 176 loss: tensor(0.9143)\n",
      "epoch: 177 loss: tensor(0.9182)\n",
      "epoch: 178 loss: tensor(0.9235)\n",
      "epoch: 179 loss: tensor(0.9256)\n",
      "epoch: 180 loss: tensor(0.9245)\n",
      "epoch: 181 loss: tensor(0.9234)\n",
      "epoch: 182 loss: tensor(0.9228)\n",
      "epoch: 183 loss: tensor(0.9227)\n",
      "epoch: 184 loss: tensor(0.9211)\n",
      "epoch: 185 loss: tensor(0.9220)\n",
      "epoch: 186 loss: tensor(0.9211)\n",
      "epoch: 187 loss: tensor(0.9208)\n",
      "epoch: 188 loss: tensor(0.9191)\n",
      "epoch: 189 loss: tensor(0.9198)\n",
      "epoch: 190 loss: tensor(0.9183)\n",
      "epoch: 191 loss: tensor(0.9195)\n",
      "epoch: 192 loss: tensor(0.9179)\n",
      "epoch: 193 loss: tensor(0.9185)\n",
      "epoch: 194 loss: tensor(0.9169)\n",
      "epoch: 195 loss: tensor(0.9178)\n",
      "epoch: 196 loss: tensor(0.9162)\n",
      "epoch: 197 loss: tensor(0.9164)\n",
      "epoch: 198 loss: tensor(0.9162)\n",
      "epoch: 199 loss: tensor(0.9175)\n",
      "epoch: 200 loss: tensor(0.9154)\n"
     ]
    }
   ],
   "source": [
    "nb_epoch = 200\n",
    "for epoch in range(1, nb_epoch + 1):\n",
    "    train_loss = 0\n",
    "    s = 0.\n",
    "    for id_user in range(nb_users):\n",
    "        input = Variable(training_set[id_user]).unsqueeze(0) # to get the raitings, this is a vector of one dimension, we need need to convert for pytorch( batch of one input vector)\n",
    "        target = input.clone()\n",
    "        if torch.sum(target.data > 0) > 0:\n",
    "            output = sae(input) # enconde and decode will work here\n",
    "            target.require_grad = False\n",
    "            output[target == 0] = 0\n",
    "            loss = criterion(output, target)\n",
    "            mean_corrector = nb_movies/float(torch.sum(target.data > 0) + 1e-10)\n",
    "            loss.backward()\n",
    "            train_loss += np.sqrt(loss.data*mean_corrector)\n",
    "            s += 1.\n",
    "            optimizer.step()\n",
    "    print('epoch: '+str(epoch)+' loss: '+str(train_loss/s))"
   ]
  },
  {
   "cell_type": "markdown",
   "metadata": {},
   "source": [
    "#### Testing the SAE"
   ]
  },
  {
   "cell_type": "code",
   "execution_count": 13,
   "metadata": {},
   "outputs": [
    {
     "ename": "IndexError",
     "evalue": "The shape of the mask [1682] at index 0 does not match the shape of the indexed tensor [1, 1682] at index 0",
     "output_type": "error",
     "traceback": [
      "\u001b[1;31m---------------------------------------------------------------------------\u001b[0m",
      "\u001b[1;31mIndexError\u001b[0m                                Traceback (most recent call last)",
      "\u001b[1;32m<ipython-input-13-314201651691>\u001b[0m in \u001b[0;36m<module>\u001b[1;34m\u001b[0m\n\u001b[0;32m      7\u001b[0m         \u001b[0moutput\u001b[0m \u001b[1;33m=\u001b[0m \u001b[0msae\u001b[0m\u001b[1;33m(\u001b[0m\u001b[0minput\u001b[0m\u001b[1;33m)\u001b[0m\u001b[1;33m\u001b[0m\u001b[1;33m\u001b[0m\u001b[0m\n\u001b[0;32m      8\u001b[0m         \u001b[0mtarget\u001b[0m\u001b[1;33m.\u001b[0m\u001b[0mrequire_grad\u001b[0m \u001b[1;33m=\u001b[0m \u001b[1;32mFalse\u001b[0m\u001b[1;33m\u001b[0m\u001b[1;33m\u001b[0m\u001b[0m\n\u001b[1;32m----> 9\u001b[1;33m         \u001b[0moutput\u001b[0m\u001b[1;33m[\u001b[0m\u001b[0mtarget\u001b[0m \u001b[1;33m==\u001b[0m \u001b[1;36m0\u001b[0m\u001b[1;33m]\u001b[0m \u001b[1;33m=\u001b[0m \u001b[1;36m0\u001b[0m\u001b[1;33m\u001b[0m\u001b[1;33m\u001b[0m\u001b[0m\n\u001b[0m\u001b[0;32m     10\u001b[0m         \u001b[0mloss\u001b[0m \u001b[1;33m=\u001b[0m \u001b[0mcriterion\u001b[0m\u001b[1;33m(\u001b[0m\u001b[0moutput\u001b[0m\u001b[1;33m,\u001b[0m \u001b[0mtarget\u001b[0m\u001b[1;33m)\u001b[0m\u001b[1;33m\u001b[0m\u001b[1;33m\u001b[0m\u001b[0m\n\u001b[0;32m     11\u001b[0m         \u001b[0mmean_corrector\u001b[0m \u001b[1;33m=\u001b[0m \u001b[0mnb_movies\u001b[0m\u001b[1;33m/\u001b[0m\u001b[0mfloat\u001b[0m\u001b[1;33m(\u001b[0m\u001b[0mtorch\u001b[0m\u001b[1;33m.\u001b[0m\u001b[0msum\u001b[0m\u001b[1;33m(\u001b[0m\u001b[0mtarget\u001b[0m\u001b[1;33m.\u001b[0m\u001b[0mdata\u001b[0m \u001b[1;33m>\u001b[0m \u001b[1;36m0\u001b[0m\u001b[1;33m)\u001b[0m \u001b[1;33m+\u001b[0m \u001b[1;36m1e-10\u001b[0m\u001b[1;33m)\u001b[0m\u001b[1;33m\u001b[0m\u001b[1;33m\u001b[0m\u001b[0m\n",
      "\u001b[1;31mIndexError\u001b[0m: The shape of the mask [1682] at index 0 does not match the shape of the indexed tensor [1, 1682] at index 0"
     ]
    }
   ],
   "source": [
    "test_loss = 0\n",
    "s = 0.\n",
    "for id_user in range(nb_users):\n",
    "    input = Variable(training_set[id_user]).unsqueeze(0)\n",
    "    target = Variable(test_set[id_user])\n",
    "    if torch.sum(target.data > 0) > 0:\n",
    "        output = sae(input)\n",
    "        target.require_grad = False\n",
    "        output[target == 0] = 0\n",
    "        loss = criterion(output, target)\n",
    "        mean_corrector = nb_movies/float(torch.sum(target.data > 0) + 1e-10)\n",
    "        test_loss += np.sqrt(loss.data*mean_corrector)\n",
    "        s += 1.\n",
    "print('test loss: '+str(test_loss/s))\n"
   ]
  },
  {
   "cell_type": "code",
   "execution_count": null,
   "metadata": {},
   "outputs": [],
   "source": []
  }
 ],
 "metadata": {
  "kernelspec": {
   "display_name": "Python 3",
   "language": "python",
   "name": "python3"
  },
  "language_info": {
   "codemirror_mode": {
    "name": "ipython",
    "version": 3
   },
   "file_extension": ".py",
   "mimetype": "text/x-python",
   "name": "python",
   "nbconvert_exporter": "python",
   "pygments_lexer": "ipython3",
   "version": "3.7.4"
  }
 },
 "nbformat": 4,
 "nbformat_minor": 2
}
